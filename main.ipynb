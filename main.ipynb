{
 "cells": [
  {
   "cell_type": "markdown",
   "id": "5c970149",
   "metadata": {},
   "source": [
    "# Deep Learning Challenge\n",
    "## Michelle Rohrer"
   ]
  },
  {
   "cell_type": "markdown",
   "id": "10c81dbf",
   "metadata": {},
   "source": [
    "### Pakete laden"
   ]
  },
  {
   "cell_type": "code",
   "execution_count": null,
   "id": "850749da",
   "metadata": {},
   "outputs": [
    {
     "name": "stderr",
     "output_type": "stream",
     "text": [
      "2025-09-05 14:40:33.085237: I tensorflow/core/platform/cpu_feature_guard.cc:210] This TensorFlow binary is optimized to use available CPU instructions in performance-critical operations.\n",
      "To enable the following instructions: AVX2 FMA, in other operations, rebuild TensorFlow with the appropriate compiler flags.\n"
     ]
    }
   ],
   "source": [
    "import pandas as pd\n",
    "import matplotlib as plt\n",
    "import numpy as np\n",
    "import os\n",
    "\n",
    "from tensorflow.keras.preprocessing.image import ImageDataGenerator"
   ]
  },
  {
   "cell_type": "markdown",
   "id": "527214f6",
   "metadata": {},
   "source": [
    "### Daten laden und vorbereiten\n",
    "Die Daten wurden von kaggle heruntergeladen (https://www.kaggle.com/datasets/msambare/fer2013)\n",
    "\n",
    "Infos zu den Daten:\n",
    "\n",
    "Die Daten bestehen aus 48x48 Pixel großen Graustufenbildern von Gesichtern. Die Gesichter wurden automatisch so ausgerichtet, dass sie mehr oder weniger zentriert sind und ungefähr den gleichen Bereich in jedem Bild einnehmen.\n",
    "\n",
    "Die Aufgabe besteht darin, jedes Gesicht anhand des im Gesichtsausdruck gezeigten Gefühls einer von sieben Kategorien zuzuordnen (0=Angry, 1=Disgust, 2=Fear, 3=Happy, 4=Sad, 5=Surprise, 6=Neutral). Der Trainingssatz besteht aus 28.709 Beispielen und der öffentliche Testsatz aus 3.589 Beispielen."
   ]
  },
  {
   "cell_type": "code",
   "execution_count": 2,
   "id": "0fa9acce",
   "metadata": {},
   "outputs": [
    {
     "name": "stdout",
     "output_type": "stream",
     "text": [
      "['test', 'train']\n"
     ]
    }
   ],
   "source": [
    "# schauen welche Dateien im Ordner sind\n",
    "base_path = \"/Users/husazwerg/.cache/kagglehub/datasets/msambare/fer2013/versions/1\"\n",
    "print(os.listdir(base_path))\n"
   ]
  },
  {
   "cell_type": "code",
   "execution_count": 3,
   "id": "4bb08248",
   "metadata": {},
   "outputs": [],
   "source": [
    "base_path = \"/Users/husazwerg/.cache/kagglehub/datasets/msambare/fer2013/versions/1\"\n",
    "train_dir = os.path.join(base_path, \"train\")\n",
    "test_dir  = os.path.join(base_path, \"test\")"
   ]
  },
  {
   "cell_type": "code",
   "execution_count": null,
   "id": "1ed13f20",
   "metadata": {},
   "outputs": [
    {
     "name": "stdout",
     "output_type": "stream",
     "text": [
      "Found 28709 images belonging to 7 classes.\n",
      "Found 7178 images belonging to 7 classes.\n",
      "Klassen: {'angry': 0, 'disgust': 1, 'fear': 2, 'happy': 3, 'neutral': 4, 'sad': 5, 'surprise': 6}\n"
     ]
    }
   ],
   "source": [
    "img_size = 48\n",
    "batch_size = 64\n",
    "\n",
    "# Daten normalisieren -> Pixelwerte zwischen 0 und 1\n",
    "datagen = ImageDataGenerator(rescale=1./255)\n",
    "\n",
    "train_generator = datagen.flow_from_directory(train_dir,\n",
    "                                             target_size=(img_size, img_size),\n",
    "                                             batch_size=batch_size,\n",
    "                                             class_mode='categorical')\n",
    "test_generator = datagen.flow_from_directory(test_dir,\n",
    "                                            target_size=(img_size, img_size),\n",
    "                                            batch_size=batch_size,\n",
    "                                            class_mode='categorical')\n",
    "\n",
    "print(f\"Klassen: {train_generator.class_indices}\")\n"
   ]
  },
  {
   "cell_type": "code",
   "execution_count": null,
   "id": "934bf364",
   "metadata": {},
   "outputs": [],
   "source": []
  }
 ],
 "metadata": {
  "kernelspec": {
   "display_name": ".venv",
   "language": "python",
   "name": "python3"
  },
  "language_info": {
   "codemirror_mode": {
    "name": "ipython",
    "version": 3
   },
   "file_extension": ".py",
   "mimetype": "text/x-python",
   "name": "python",
   "nbconvert_exporter": "python",
   "pygments_lexer": "ipython3",
   "version": "3.12.7"
  }
 },
 "nbformat": 4,
 "nbformat_minor": 5
}
