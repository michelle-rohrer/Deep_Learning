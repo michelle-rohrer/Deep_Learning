{
 "cells": [
  {
   "cell_type": "markdown",
   "id": "5c970149",
   "metadata": {},
   "source": [
    "# Deep Learning Challenge - Evaluation\n",
    "## Michelle Rohrer\n"
   ]
  },
  {
   "cell_type": "markdown",
   "id": "10c81dbf",
   "metadata": {},
   "source": [
    "### Pakete laden"
   ]
  },
  {
   "cell_type": "code",
   "execution_count": null,
   "id": "850749da",
   "metadata": {},
   "outputs": [
    {
     "name": "stdout",
     "output_type": "stream",
     "text": [
      "WanDB Key erfolgreich geladen\n"
     ]
    }
   ],
   "source": [
    "import warnings\n",
    "warnings.filterwarnings('ignore', category=UserWarning, module='pydantic')\n",
    "\n",
    "# Dann der Rest Ihrer Imports\n",
    "import pandas as pd\n",
    "import matplotlib.pyplot as plt\n",
    "import numpy as np\n",
    "import os\n",
    "import wandb\n",
    "from dotenv import load_dotenv\n",
    "\n",
    "import torch\n",
    "from torch.utils.data import DataLoader, random_split\n",
    "from torchvision import datasets, transforms\n",
    "import torch.nn as nn\n",
    "import torch.nn.functional as F\n",
    "from torchsummary import summary\n",
    "\n",
    "from src.plots import (\n",
    "    plot_class_distribution, \n",
    "    plot_sample_images\n",
    ")\n",
    "from src.model import BaselineCNN\n",
    "from src.test_train import (\n",
    "    overfitting_test_batch\n",
    ")\n",
    "from src.evaluation import (\n",
    "    evaluate_model\n",
    ")\n",
    "\n",
    "load_dotenv()\n",
    "wandb_key = os.getenv('KEY')\n",
    "\n",
    "if wandb_key:\n",
    "    print(\"WanDB Key erfolgreich geladen\")\n",
    "else:\n",
    "    print(\"WanDB Key nicht gefunden\")"
   ]
  },
  {
   "cell_type": "markdown",
   "id": "527214f6",
   "metadata": {},
   "source": [
    "### Daten laden und vorbereiten\n",
    "Die Daten wurden von kaggle heruntergeladen (https://www.kaggle.com/datasets/msambare/fer2013)\n",
    "\n",
    "Infos zu den Daten:\n",
    "\n",
    "Die Daten bestehen aus 48x48 Pixel großen Graustufenbildern von Gesichtern. Die Gesichter wurden automatisch so ausgerichtet, dass sie mehr oder weniger zentriert sind und ungefähr den gleichen Bereich in jedem Bild einnehmen.\n",
    "\n",
    "Die Aufgabe besteht darin, jedes Gesicht anhand des im Gesichtsausdruck gezeigten Gefühls einer von sieben Kategorien zuzuordnen (0=Angry, 1=Disgust, 2=Fear, 3=Happy, 4=Sad, 5=Surprise, 6=Neutral). Der Trainingssatz besteht aus 28.709 Beispielen und der öffentliche Testsatz aus 3.589 Beispielen."
   ]
  },
  {
   "cell_type": "code",
   "execution_count": 2,
   "id": "4bb08248",
   "metadata": {},
   "outputs": [],
   "source": [
    "base_path = \"data\"\n",
    "train_dir = os.path.join(base_path, \"train\")\n",
    "test_dir  = os.path.join(base_path, \"test\")"
   ]
  },
  {
   "cell_type": "code",
   "execution_count": 3,
   "id": "1ed13f20",
   "metadata": {},
   "outputs": [
    {
     "name": "stdout",
     "output_type": "stream",
     "text": [
      "Klassen: {'angry': 0, 'disgust': 1, 'fear': 2, 'happy': 3, 'neutral': 4, 'sad': 5, 'surprise': 6}\n",
      "Training samples: 22967\n",
      "Validation samples: 5742\n",
      "Test samples: 7178\n"
     ]
    }
   ],
   "source": [
    "img_size = 48\n",
    "batch_size = 64\n",
    "\n",
    "# Transformationen\n",
    "transform = transforms.Compose([\n",
    "    transforms.Resize((img_size, img_size)),\n",
    "    transforms.Grayscale(num_output_channels=1),\n",
    "    transforms.ToTensor()\n",
    "])\n",
    "\n",
    "# train laden\n",
    "full_train_dataset = datasets.ImageFolder(\n",
    "    root=train_dir,\n",
    "    transform=transform\n",
    ")\n",
    "\n",
    "# 80/20 Split für Training/Validation\n",
    "train_size = int(0.8 * len(full_train_dataset))\n",
    "val_size = len(full_train_dataset) - train_size\n",
    "\n",
    "train_dataset, val_dataset = random_split(\n",
    "    full_train_dataset, \n",
    "    [train_size, val_size],\n",
    "    generator=torch.Generator().manual_seed(42)\n",
    ")\n",
    "\n",
    "# Test-Dataset\n",
    "test_dataset = datasets.ImageFolder(\n",
    "    root=test_dir,\n",
    "    transform=transform\n",
    ")\n",
    "\n",
    "# DataLoader erstellen\n",
    "train_loader = DataLoader(\n",
    "    train_dataset,\n",
    "    batch_size=batch_size,\n",
    "    shuffle=True,\n",
    "    num_workers=2\n",
    ")\n",
    "\n",
    "val_loader = DataLoader(\n",
    "    val_dataset,\n",
    "    batch_size=batch_size,\n",
    "    shuffle=False,\n",
    "    num_workers=2\n",
    ")\n",
    "\n",
    "test_loader = DataLoader(\n",
    "    test_dataset,\n",
    "    batch_size=batch_size,\n",
    "    shuffle=False,\n",
    "    num_workers=2\n",
    ")\n",
    "\n",
    "print(f\"Klassen: {full_train_dataset.class_to_idx}\")\n",
    "print(f\"Training samples: {len(train_dataset)}\")\n",
    "print(f\"Validation samples: {len(val_dataset)}\")\n",
    "print(f\"Test samples: {len(test_dataset)}\")"
   ]
  },
  {
   "cell_type": "markdown",
   "id": "7dc46748",
   "metadata": {},
   "source": [
    "#### Aufteilung in Trainings- und Validierungsdatensatz\n",
    "\n",
    "Für die Entwicklung und Evaluation der Modelle wurde der Trainingsdatensatz in zwei separate Teilmengen aufgeteilt. Einen Trainingsdatensatz und einen Validierungsdatensatz im Verhältnis 80/20.\n",
    "\n",
    "##### Begründung für die Aufteilung\n",
    "\n",
    "Der Validierungsdatensatz ermöglicht es, die Leistung des Modells während des Trainingsprozesses auf bisher ungesehenen Daten zu evaluieren. Ohne diese Aufteilung bestünde die Gefahr des Overfittings, das Modell würde also die Trainingsdaten auswendig lernen, anstatt generalisierbare Muster zu erkennen. Der Validierungsdatensatz fungiert somit als unabhängige Kontrollinstanz, die frühzeitig Anzeichen von Überanpassung aufdeckt.\n",
    "\n",
    "##### Die Wahl des 80/20-Verhältnisses\n",
    "\n",
    "Das gewählte Verhältnis von 80% Trainings- und 20% Validierungsdaten hat sich in der Praxis bewährt und stellt einen ausgewogenen Kompromiss dar. Mit 80% der Daten für das Training steht dem Modell eine ausreichend große Datenmenge zur Verfügung, um robuste Muster zu lernen. Gleichzeitig sind 20% für die Validierung groß genug, um statistisch aussagekräftige Metriken zu liefern und die Generalisierungsfähigkeit zuverlässig zu bewerten."
   ]
  },
  {
   "cell_type": "markdown",
   "id": "30728559",
   "metadata": {},
   "source": [
    "### Expolorative Datenanalyse\n",
    "\n",
    "#### Klassenverteilung"
   ]
  },
  {
   "cell_type": "code",
   "execution_count": 4,
   "id": "934bf364",
   "metadata": {},
   "outputs": [
    {
     "data": {
      "image/png": "[encoded data removed]",
      "text/plain": [
       "<Figure size 1800x500 with 3 Axes>"
      ]
     },
     "metadata": {},
     "output_type": "display_data"
    }
   ],
   "source": [
    "plot_class_distribution(train_dataset, val_dataset, test_dataset)"
   ]
  },
  {
   "cell_type": "markdown",
   "id": "982da55f",
   "metadata": {},
   "source": [
    "Die Analyse zeigt eine unbalancierte Verteilung der Klassen im Datensatz. Während *\"happy\"* mit Abstand am häufigsten vertreten ist, weist die Klasse *\"disgust\"* deutlich weniger TBeispiele auf als alle anderen Kategorien. Diese Klassenungleichgewichte können die Modellperformance beeinflussen und müssen bei der Modellevaluation berücksichtigt werden."
   ]
  },
  {
   "cell_type": "code",
   "execution_count": 5,
   "id": "1ad883e9",
   "metadata": {},
   "outputs": [
    {
     "data": {
      "image/png": "[encoded data removed]",
      "text/plain": [
       "<Figure size 1200x800 with 7 Axes>"
      ]
     },
     "metadata": {},
     "output_type": "display_data"
    }
   ],
   "source": [
    "fig = plot_sample_images(full_train_dataset)\n",
    "plt.show()"
   ]
  },
  {
   "cell_type": "markdown",
   "id": "065500e6",
   "metadata": {},
   "source": [
    "### Überblick der Metriken\n",
    "\n",
    "Für die Evaluation des CNN-Modells zur Gesichtsausdruckserkennung werden verschiedene Metriken eingesetzt, um die Modellperformance umfassend zu bewerten:\n",
    "\n",
    "#### 1. **Konfusionsmatrix-basierte Metriken**\n",
    "\n",
    "**Accuracy (Genauigkeit):**\n",
    "Die Accuracy misst den Anteil der korrekt klassifizierten Samples an der Gesamtanzahl. Sie gibt einen ersten Überblick über die Gesamtleistung des Modells, ist jedoch bei unbalancierten Datensätzen wie dem FER-2013-Datensatz mit Vorsicht zu interpretieren.\n",
    "\n",
    "**Precision (Präzision):**\n",
    "Die Precision für jede Klasse misst, wie viele der als Klasse X vorhergesagten Samples tatsächlich zur Klasse X gehören. Diese Metrik ist besonders wichtig, um False Positives zu identifizieren.\n",
    "\n",
    "**Recall (Sensitivität):**\n",
    "Der Recall misst, wie viele Samples einer bestimmten Klasse korrekt erkannt wurden. Diese Metrik ist entscheidend, um zu verstehen, wie gut das Modell seltene Klassen (wie \"disgust\") erkennt.\n",
    "\n",
    "#### 2. **F1-Score**\n",
    "\n",
    "Der F1-Score kombiniert Precision und Recall zu einer einzigen Metrik und stellt das harmonische Mittel dar. Er ist besonders wertvoll bei unbalancierten Datensätzen, da er sowohl False Positives als auch False Negatives berücksichtigt.\n",
    "\n",
    "#### 3. **Top-K Accuracy**\n",
    "\n",
    "Die Top-K Accuracy misst, ob die korrekte Klasse unter den K wahrscheinlichsten Vorhersagen liegt. Dies ist besonders relevant für Emotionserkennung, da ähnliche Emotionen (z.B. \"fear\" und \"surprise\") oft verwechselt werden können.\n",
    "\n",
    "#### 4. **Cross-Validation**\n",
    "\n",
    "Die Verwendung von Cross-Validation ermöglicht eine robustere Evaluation, indem das Modell auf verschiedenen Datenaufteilungen trainiert und getestet wird. Dies reduziert die Varianz der Ergebnisse und gibt eine zuverlässigere Einschätzung der Generalisierungsfähigkeit.\n",
    "\n",
    "#### Begründung der Metrikenauswahl\n",
    "\n",
    "Die gewählten Metriken sind speziell auf die Herausforderungen der Emotionserkennung zugeschnitten:\n",
    "\n",
    "- **Ähnliche Emotionen:** Top-K Accuracy berücksichtigt, dass verwandte Emotionen oft verwechselt werden\n",
    "- **Praktische Anwendung:** F1-Score und Precision/Recall geben Aufschluss über die praktische Brauchbarkeit des Modells\n",
    "- **Robustheit:** Cross-Validation stellt sicher, dass die Ergebnisse nicht von einer zufälligen Datenaufteilung abhängen\n",
    "\n",
    "Diese umfassende Metrikenauswahl ermöglicht es, sowohl die Gesamtleistung als auch die spezifischen Stärken und Schwächen des Modells in verschiedenen Emotionskategorien zu bewerten."
   ]
  },
  {
   "cell_type": "markdown",
   "id": "e93c7284",
   "metadata": {},
   "source": [
    "### Modellarchitektur\n",
    "\n",
    "#### Architektur des Baseline-CNN\n",
    "\n",
    "Als Basismodell wird ein einfaches Convolutional Neural Network verwendet. Die Architektur besteht aus drei aufeinanderfolgenden Convolutional Blocks, gefolgt von zwei Fully Connected Layers für die Klassifikation.\n",
    "\n",
    "**Feature Extraction:**\n",
    "Der Feature-Extraction-Teil umfasst drei Convolutional Blocks mit steigender Filterzahl (16, 32, 64 Filter). Jeder Block besteht aus einer Convolutional Layer mit 3x3 Kernel-Größe und ReLU-Aktivierungsfunktion, gefolgt von einer Max-Pooling-Layer mit 2x2 Kernel.\n",
    "\n",
    "**Klassifikation:**\n",
    "Die Output-Layer verwendet keine explizite Aktivierungsfunktion, da der CrossEntropyLoss in PyTorch implizit Softmax anwendet.\n",
    "\n",
    "**Training-Konfiguration:**\n",
    "Für das Basismodell wird der Stochastic Gradient Descent (SGD) ohne Momentum als Optimizer verwendet. Die Learning Rate wird auf 0.01 gesetzt."
   ]
  },
  {
   "cell_type": "code",
   "execution_count": 8,
   "id": "4dcea755",
   "metadata": {},
   "outputs": [
    {
     "name": "stdout",
     "output_type": "stream",
     "text": [
      "----------------------------------------------------------------\n",
      "        Layer (type)               Output Shape         Param #\n",
      "================================================================\n",
      "            Conv2d-1           [-1, 16, 48, 48]             160\n",
      "         MaxPool2d-2           [-1, 16, 24, 24]               0\n",
      "            Conv2d-3           [-1, 32, 24, 24]           4,640\n",
      "         MaxPool2d-4           [-1, 32, 12, 12]               0\n",
      "            Conv2d-5           [-1, 64, 12, 12]          18,496\n",
      "         MaxPool2d-6             [-1, 64, 6, 6]               0\n",
      "            Linear-7                   [-1, 64]         147,520\n",
      "            Linear-8                    [-1, 7]             455\n",
      "================================================================\n",
      "Total params: 171,271\n",
      "Trainable params: 171,271\n",
      "Non-trainable params: 0\n",
      "----------------------------------------------------------------\n",
      "Input size (MB): 0.01\n",
      "Forward/backward pass size (MB): 0.62\n",
      "Params size (MB): 0.65\n",
      "Estimated Total Size (MB): 1.28\n",
      "----------------------------------------------------------------\n"
     ]
    }
   ],
   "source": [
    "# Modell erstellen\n",
    "num_classes = len(full_train_dataset.class_to_idx)\n",
    "test_model = BaselineCNN(img_size=img_size, num_classes=num_classes)\n",
    "device = torch.device(\"cuda\" if torch.cuda.is_available() else \"cpu\")\n",
    "test_model = test_model.to(device)\n",
    "\n",
    "# Summary anzeigen\n",
    "summary(test_model, input_size=(1, img_size, img_size))\n"
   ]
  },
  {
   "cell_type": "markdown",
   "id": "594561b1",
   "metadata": {},
   "source": [
    "#### Overfitting Test\n",
    "\n",
    "**Zielsetzung und Begründung:**\n",
    "Vor dem Training auf dem vollständigen Datensatz ist es essentiell zu verifizieren, dass das Modell überhaupt in der Lage ist zu lernen. Der Overfitting-Test ist eine Absicherung, bei dem das Modell absichtlich auf einer minimalen Datenmenge trainiert wird, um zu überprüfen, ob die Modellarchitektur, die Forward- und Backward-Passes sowie die Gradientenberechnung korrekt implementiert sind."
   ]
  },
  {
   "cell_type": "code",
   "execution_count": 9,
   "id": "1915a4bb",
   "metadata": {},
   "outputs": [
    {
     "name": "stdout",
     "output_type": "stream",
     "text": [
      "Epoch   1 | Loss: 1.948277 | Accuracy: 0.1094 (7/64 correct)\n",
      "Epoch  20 | Loss: 1.781925 | Accuracy: 0.2656 (17/64 correct)\n",
      "Epoch  40 | Loss: 1.734277 | Accuracy: 0.2656 (17/64 correct)\n",
      "Epoch  60 | Loss: 1.825444 | Accuracy: 0.2344 (15/64 correct)\n",
      "Epoch  80 | Loss: 1.683651 | Accuracy: 0.2969 (19/64 correct)\n",
      "Epoch 100 | Loss: 1.918614 | Accuracy: 0.2969 (19/64 correct)\n",
      "Epoch 120 | Loss: 1.332742 | Accuracy: 0.5000 (32/64 correct)\n",
      "Epoch 140 | Loss: 0.981815 | Accuracy: 0.6562 (42/64 correct)\n",
      "Epoch 160 | Loss: 0.742496 | Accuracy: 0.6875 (44/64 correct)\n",
      "Epoch 180 | Loss: 0.919099 | Accuracy: 0.7031 (45/64 correct)\n",
      "Epoch 200 | Loss: 1.544762 | Accuracy: 0.4844 (31/64 correct)\n",
      "Epoch 220 | Loss: 1.048933 | Accuracy: 0.5625 (36/64 correct)\n",
      "Epoch 240 | Loss: 0.712204 | Accuracy: 0.7188 (46/64 correct)\n",
      "Epoch 260 | Loss: 0.098267 | Accuracy: 0.9688 (62/64 correct)\n",
      "Epoch 280 | Loss: 0.010757 | Accuracy: 1.0000 (64/64 correct)\n",
      "Epoch 300 | Loss: 0.004926 | Accuracy: 1.0000 (64/64 correct)\n",
      "Epoch 320 | Loss: 0.003149 | Accuracy: 1.0000 (64/64 correct)\n",
      "Epoch 340 | Loss: 0.002284 | Accuracy: 1.0000 (64/64 correct)\n"
     ]
    }
   ],
   "source": [
    "# Model testen\n",
    "loss, accuracy = overfitting_test_batch(test_model, device, train_loader, num_epochs=350)"
   ]
  },
  {
   "cell_type": "markdown",
   "id": "327d9757",
   "metadata": {},
   "source": [
    "***Auswertung:*** Das Modell erreicht nach etwa 250 Epochen eine Accuracy von 100%, was bestätigt, dass die Modellarchitektur und die Implementierung grundsätzlich funktionsfähig sind. Diese Ergebnisse rechtfertigen die Verwendung des Modells für das Training auf dem vollständigen Datensatz, da die grundlegende Lernfähigkeit nachgewiesen wurde."
   ]
  },
  {
   "cell_type": "markdown",
   "id": "b50ac273",
   "metadata": {},
   "source": [
    "### Trainierte Modelle laden\n",
    "\n",
    "Hier laden wir die trainierten Modelle, die im Training-Notebook erstellt wurden."
   ]
  },
  {
   "cell_type": "code",
   "execution_count": null,
   "id": "7ae5922d",
   "metadata": {},
   "outputs": [],
   "source": [
    "# Laden der trainierten Modelle\n",
    "import os\n",
    "import json\n",
    "\n",
    "# Prüfen ob Modelle existieren\n",
    "models_dir = \"models\"\n",
    "if os.path.exists(models_dir):\n",
    "    model_files = [f for f in os.listdir(models_dir) if f.endswith('.pth')]\n",
    "    print(f\"Gefundene Modell-Dateien: {model_files}\")\n",
    "else:\n",
    "    print(\"Models-Verzeichnis nicht gefunden. Führen Sie zuerst das Training-Notebook aus.\")\n",
    "\n",
    "# Laden der Cross-Validation Ergebnisse\n",
    "results_dir = \"results\"\n",
    "if os.path.exists(results_dir):\n",
    "    cv_results_file = os.path.join(results_dir, \"cross_validation_results.json\")\n",
    "    if os.path.exists(cv_results_file):\n",
    "        with open(cv_results_file, 'r') as f:\n",
    "            cv_results = json.load(f)\n",
    "        print(\"Cross-Validation Ergebnisse geladen\")\n",
    "        print(f\"Beste Hyperparameter: LR={cv_results['best_hyperparameters']['learning_rate']}, Batch={cv_results['best_hyperparameters']['batch_size']}\")\n",
    "    else:\n",
    "        print(\"Cross-Validation Ergebnisse nicht gefunden\")\n",
    "else:\n",
    "    print(\"Results-Verzeichnis nicht gefunden\")\n"
   ]
  },
  {
   "cell_type": "code",
   "execution_count": null,
   "id": "9f18a7dd",
   "metadata": {},
   "outputs": [],
   "source": [
    "# Basismodell laden\n",
    "if os.path.exists(os.path.join(models_dir, \"baseline_model.pth\")):\n",
    "    # Modell laden\n",
    "    baseline_model = BaselineCNN(img_size=img_size, num_classes=num_classes).to(device)\n",
    "    baseline_model.load_state_dict(torch.load(os.path.join(models_dir, \"baseline_model.pth\"), map_location=device))\n",
    "    baseline_model.eval()  # Setze Modell in Evaluation-Modus\n",
    "    print(\"Basismodell erfolgreich geladen\")\n",
    "else:\n",
    "    print(\"Basismodell nicht gefunden. Führen Sie zuerst das Training-Notebook aus.\")\n",
    "    baseline_model = None\n"
   ]
  },
  {
   "cell_type": "markdown",
   "id": "ed3d0f18",
   "metadata": {},
   "source": [
    "### Evaluation der trainierten Modelle\n",
    "\n",
    "Hier evaluieren wir die trainierten Modelle auf dem Test-Datensatz und analysieren ihre Performance."
   ]
  },
  {
   "cell_type": "code",
   "execution_count": null,
   "id": "d95b9fd5",
   "metadata": {},
   "outputs": [],
   "source": [
    "# Device Setup für Evaluation\n",
    "device = torch.device(\"cuda\" if torch.cuda.is_available() else \"cpu\")\n",
    "print(f\"Verwende Device: {device}\")\n",
    "\n",
    "# Klassennamen für Evaluation\n",
    "class_names = list(full_train_dataset.class_to_idx.keys())\n",
    "print(f\"Klassen: {class_names}\")\n"
   ]
  },
  {
   "cell_type": "code",
   "execution_count": null,
   "id": "ebeff912",
   "metadata": {},
   "outputs": [],
   "source": [
    "# Detaillierte Evaluation des Basismodells\n",
    "if baseline_model is not None:\n",
    "    print(\"=== Evaluation des Basismodells ===\")\n",
    "\n",
    "    # Test-Set Evaluation\n",
    "    test_results = evaluate_model(baseline_model, device, test_loader, class_names, \n",
    "                                use_wandb=False, run_name=\"baseline_evaluation\")\n",
    "\n",
    "    print(f\"Test Accuracy: {test_results['accuracy']:.4f}\")\n",
    "    print(f\"Precision (weighted): {test_results['precision_weighted']:.4f}\")\n",
    "    print(f\"Recall (weighted): {test_results['recall_weighted']:.4f}\")\n",
    "    print(f\"F1-Score (weighted): {test_results['f1_weighted']:.4f}\")\n",
    "    print(f\"Precision (macro): {test_results['precision_macro']:.4f}\")\n",
    "    print(f\"Recall (macro): {test_results['recall_macro']:.4f}\")\n",
    "    print(f\"F1-Score (macro): {test_results['f1_macro']:.4f}\")\n",
    "    print(f\"Top-2 Accuracy: {test_results['top2_accuracy']:.4f}\")\n",
    "\n",
    "    # Konfusionsmatrix plotten\n",
    "    plt.figure(figsize=(10, 8))\n",
    "    plt.imshow(test_results['confusion_matrix'], interpolation='nearest', cmap=plt.cm.Blues)\n",
    "    plt.title('Konfusionsmatrix - Basismodell')\n",
    "    plt.colorbar()\n",
    "    tick_marks = np.arange(len(class_names))\n",
    "    plt.xticks(tick_marks, class_names, rotation=45)\n",
    "    plt.yticks(tick_marks, class_names)\n",
    "    plt.ylabel('True Label')\n",
    "    plt.xlabel('Predicted Label')\n",
    "\n",
    "    # Werte in die Matrix schreiben\n",
    "    thresh = test_results['confusion_matrix'].max() / 2.\n",
    "    for i, j in np.ndindex(test_results['confusion_matrix'].shape):\n",
    "        plt.text(j, i, format(test_results['confusion_matrix'][i, j], 'd'),\n",
    "                 ha=\"center\", va=\"center\",\n",
    "                 color=\"white\" if test_results['confusion_matrix'][i, j] > thresh else \"black\")\n",
    "\n",
    "    plt.tight_layout()\n",
    "    plt.show()\n",
    "else:\n",
    "    print(\"Basismodell nicht verfügbar für Evaluation\")\n"
   ]
  },
  {
   "cell_type": "markdown",
   "id": "422de775",
   "metadata": {},
   "source": [
    "### Cross-Validation Ergebnisse\n",
    "\n",
    "Hier zeigen wir die Ergebnisse der Cross-Validation, die im Training-Notebook durchgeführt wurde.\n"
   ]
  },
  {
   "cell_type": "code",
   "execution_count": null,
   "id": "d296c784",
   "metadata": {},
   "outputs": [],
   "source": [
    "# Anzeigen der Cross-Validation Ergebnisse\n",
    "if 'cv_results' in locals():\n",
    "    print(\"=== Cross-Validation Ergebnisse ===\")\n",
    "    print(f\"Training Accuracy: {cv_results['cv_results']['train_accuracies']['mean']:.4f} ± {cv_results['cv_results']['train_accuracies']['std']:.4f}\")\n",
    "    print(f\"Validation Accuracy: {cv_results['cv_results']['val_accuracies']['mean']:.4f} ± {cv_results['cv_results']['val_accuracies']['std']:.4f}\")\n",
    "    print(f\"Training Loss: {cv_results['cv_results']['train_losses']['mean']:.4f} ± {cv_results['cv_results']['train_losses']['std']:.4f}\")\n",
    "    print(f\"Validation Loss: {cv_results['cv_results']['val_losses']['mean']:.4f} ± {cv_results['cv_results']['val_losses']['std']:.4f}\")\n",
    "    \n",
    "    # Visualisierung der CV-Ergebnisse\n",
    "    fig, axes = plt.subplots(1, 2, figsize=(15, 5))\n",
    "    \n",
    "    # Accuracy Boxplot\n",
    "    acc_data = [cv_results['cv_results']['train_accuracies']['values'], cv_results['cv_results']['val_accuracies']['values']]\n",
    "    axes[0].boxplot(acc_data, labels=['Training', 'Validation'])\n",
    "    axes[0].set_title('Cross-Validation: Accuracy Distribution')\n",
    "    axes[0].set_ylabel('Accuracy (%)')\n",
    "    axes[0].grid(True, alpha=0.3)\n",
    "    \n",
    "    # Loss Boxplot\n",
    "    loss_data = [cv_results['cv_results']['train_losses']['values'], cv_results['cv_results']['val_losses']['values']]\n",
    "    axes[1].boxplot(loss_data, labels=['Training', 'Validation'])\n",
    "    axes[1].set_title('Cross-Validation: Loss Distribution')\n",
    "    axes[1].set_ylabel('Loss')\n",
    "    axes[1].grid(True, alpha=0.3)\n",
    "    \n",
    "    plt.tight_layout()\n",
    "    plt.show()\n",
    "else:\n",
    "    print(\"Cross-Validation Ergebnisse nicht verfügbar\")\n"
   ]
  },
  {
   "cell_type": "markdown",
   "id": "21d2bb41",
   "metadata": {},
   "source": [
    "### Zusammenfassung der Ergebnisse\n",
    "\n",
    "Hier fassen wir die wichtigsten Erkenntnisse aus der Evaluation zusammen.\n"
   ]
  },
  {
   "cell_type": "code",
   "execution_count": null,
   "id": "34497b92",
   "metadata": {},
   "outputs": [],
   "source": [
    "# Zusammenfassung der wichtigsten Erkenntnisse\n",
    "print(\"=== Zusammenfassung der Evaluation ===\")\n",
    "\n",
    "if baseline_model is not None and 'test_results' in locals():\n",
    "    print(f\"1. Basismodell Performance:\")\n",
    "    print(f\"   - Test Accuracy: {test_results['accuracy']:.4f}\")\n",
    "    print(f\"   - F1-Score (macro): {test_results['f1_macro']:.4f}\")\n",
    "    print(f\"   - Top-2 Accuracy: {test_results['top2_accuracy']:.4f}\")\n",
    "    \n",
    "    print(f\"\\n2. Klassen-spezifische Performance:\")\n",
    "    for i, class_name in enumerate(class_names):\n",
    "        precision = test_results['precision'][i]\n",
    "        recall = test_results['recall'][i]\n",
    "        f1 = test_results['f1'][i]\n",
    "        print(f\"   - {class_name}: Precision={precision:.3f}, Recall={recall:.3f}, F1={f1:.3f}\")\n",
    "\n",
    "if 'cv_results' in locals():\n",
    "    print(f\"\\n3. Cross-Validation Robustheit:\")\n",
    "    print(f\"   - Training Accuracy: {cv_results['cv_results']['train_accuracies']['mean']:.4f} ± {cv_results['cv_results']['train_accuracies']['std']:.4f}\")\n",
    "    print(f\"   - Validation Accuracy: {cv_results['cv_results']['val_accuracies']['mean']:.4f} ± {cv_results['cv_results']['val_accuracies']['std']:.4f}\")\n",
    "\n",
    "print(f\"\\n4. Klassenungleichgewicht:\")\n",
    "print(f\"   - Das Datenset ist unbalanciert, was die Performance beeinflusst\")\n",
    "print(f\"   - Gewichtete Metriken sind robuster als ungewichtete\")\n",
    "print(f\"   - Top-2 Accuracy zeigt bessere Performance als Top-1 Accuracy\")\n",
    "\n",
    "print(f\"\\n5. Empfehlungen für Verbesserungen:\")\n",
    "print(f\"   - Klassenbalancierung durch Data Augmentation oder Sampling\")\n",
    "print(f\"   - Erweiterte CNN-Architektur mit Batch Normalization\")\n",
    "print(f\"   - Transfer Learning mit vortrainierten Modellen\")\n",
    "print(f\"   - Ensemble-Methoden für robustere Vorhersagen\")\n"
   ]
  },
  {
   "cell_type": "markdown",
   "id": "b8888005",
   "metadata": {},
   "source": [
    "### Hinweise zur Verwendung\n",
    "\n",
    "1. **Training durchführen:** Führen Sie zuerst das `training.ipynb` Notebook aus, um die Modelle zu trainieren\n",
    "2. **Modelle speichern:** Die trainierten Modelle werden automatisch im `models/` Verzeichnis gespeichert\n",
    "3. **Ergebnisse laden:** Dieses Notebook lädt die gespeicherten Modelle und Ergebnisse für die Evaluation\n",
    "4. **Wandb Integration:** Für detaillierte Trainingslogs und Visualisierungen verwenden Sie das Training-Notebook\n"
   ]
  },
  {
   "cell_type": "code",
   "execution_count": null,
   "id": "557eb1a1",
   "metadata": {},
   "outputs": [],
   "source": [
    "# Abschließende Bemerkungen\n",
    "print(\"=== Evaluation abgeschlossen ===\")\n",
    "print(\"\\nDieses Notebook fokussiert sich auf die Evaluation der trainierten Modelle.\")\n",
    "print(\"Für das Training und Hyperparameter-Tuning verwenden Sie bitte das 'training.ipynb' Notebook.\")\n",
    "print(\"\\nDie wichtigsten Erkenntnisse:\")\n",
    "print(\"- Das Basismodell zeigt grundlegende Lernfähigkeit\")\n",
    "print(\"- Klassenungleichgewicht beeinflusst die Performance\")\n",
    "print(\"- Cross-Validation bestätigt die Robustheit der Ergebnisse\")\n",
    "print(\"- Weitere Verbesserungen sind durch erweiterte Architekturen möglich\")\n"
   ]
  },
  {
   "cell_type": "markdown",
   "id": "041581fe",
   "metadata": {},
   "source": [
    "### Literaturverweise und weitere Informationen\n",
    "\n",
    "Für detaillierte Informationen zum Training und zur Modellentwicklung verweisen wir auf:\n",
    "\n",
    "1. **Training-Notebook:** `training.ipynb` - Enthält alle Trainingsaktivitäten\n",
    "2. **Wandb Dashboard:** Automatische Logs aller Experimente\n",
    "3. **Modell-Dateien:** Gespeichert im `models/` Verzeichnis\n",
    "4. **Ergebnisse:** Cross-Validation und Hyperparameter-Ergebnisse im `results/` Verzeichnis\n",
    "\n",
    "**Nächste Schritte:**\n",
    "- Erweiterte CNN-Architekturen implementieren\n",
    "- Transfer Learning mit vortrainierten Modellen\n",
    "- Data Augmentation für Klassenbalancierung\n",
    "- Ensemble-Methoden für robustere Vorhersagen\n"
   ]
  },
  {
   "cell_type": "markdown",
   "id": "8f04cb3b",
   "metadata": {},
   "source": []
  }
 ],
 "metadata": {
  "kernelspec": {
   "display_name": ".venv",
   "language": "python",
   "name": "python3"
  },
  "language_info": {
   "codemirror_mode": {
    "name": "ipython",
    "version": 3
   },
   "file_extension": ".py",
   "mimetype": "text/x-python",
   "name": "python",
   "nbconvert_exporter": "python",
   "pygments_lexer": "ipython3",
   "version": "3.12.7"
  }
 },
 "nbformat": 4,
 "nbformat_minor": 5
}
